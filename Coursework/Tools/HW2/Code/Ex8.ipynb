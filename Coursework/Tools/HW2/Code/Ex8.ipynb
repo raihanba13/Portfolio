{
 "cells": [
  {
   "cell_type": "code",
   "execution_count": 34,
   "id": "6c17d817",
   "metadata": {},
   "outputs": [],
   "source": [
    "import sympy as sy\n",
    "\n",
    "x = sy.var('x')\n",
    "\n",
    "F1 = 2*x + 8 + (66/(x-8))"
   ]
  },
  {
   "cell_type": "code",
   "execution_count": 35,
   "id": "948d150f",
   "metadata": {},
   "outputs": [
    {
     "name": "stdout",
     "output_type": "stream",
     "text": [
      "[0.267949192431123, 3.73205080756888]\n"
     ]
    }
   ],
   "source": [
    "sol_zeros = sy.solve(F1, x)\n",
    "sol_zeros = [x.evalf() for x in sol_zeros]\n",
    "print(sol_zeros)"
   ]
  },
  {
   "cell_type": "code",
   "execution_count": 38,
   "id": "01d1bb9d",
   "metadata": {},
   "outputs": [
    {
     "name": "stdout",
     "output_type": "stream",
     "text": [
      "2 - 66/(x - 8)**2\n",
      "[8 - sqrt(33), sqrt(33) + 8]\n"
     ]
    }
   ],
   "source": [
    "# Compute the position of the extrema, incomplete\n",
    "F1d = sy.diff(F1, x)\n",
    "print(sol_diff)\n",
    "\n",
    "d_roots = sy.solve(F1d, x)\n",
    "print(d_roots)"
   ]
  },
  {
   "cell_type": "code",
   "execution_count": 37,
   "id": "5767a741",
   "metadata": {},
   "outputs": [
    {
     "name": "stdout",
     "output_type": "stream",
     "text": [
      "2.25228608304361 nan\n"
     ]
    }
   ],
   "source": [
    "in1 = sy.integrate(F1,(x,0,4)).evalf()\n",
    "in2 = sy.integrate(F1,(x,0,20)).evalf()\n",
    "\n",
    "print(in1, in2)"
   ]
  },
  {
   "cell_type": "code",
   "execution_count": null,
   "id": "3b2f470c",
   "metadata": {},
   "outputs": [],
   "source": []
  }
 ],
 "metadata": {
  "kernelspec": {
   "display_name": "Python 3 (ipykernel)",
   "language": "python",
   "name": "python3"
  },
  "language_info": {
   "codemirror_mode": {
    "name": "ipython",
    "version": 3
   },
   "file_extension": ".py",
   "mimetype": "text/x-python",
   "name": "python",
   "nbconvert_exporter": "python",
   "pygments_lexer": "ipython3",
   "version": "3.9.7"
  }
 },
 "nbformat": 4,
 "nbformat_minor": 5
}
