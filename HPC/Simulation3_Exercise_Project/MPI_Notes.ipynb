{
 "cells": [
  {
   "attachments": {},
   "cell_type": "markdown",
   "metadata": {},
   "source": [
    "Chapter 1: MPI Greetings"
   ]
  },
  {
   "attachments": {},
   "cell_type": "markdown",
   "metadata": {},
   "source": [
    "```c\n",
    "sprintf(var_to_store_string, string, f_values);\n",
    "sprintf(message, \"Greetings from process %d!\", my_rank);\n",
    "```\n",
    "\n",
    "```c\n",
    "// my rank and total number of processor\n",
    "MPI_Comm_rank(MPI_COMM_WORLD, &my_rank);\n",
    "MPI_Comm_size(MPI_COMM_WORLD, &p);\n",
    "```\n",
    "\n",
    "<b><u>Count is the number of data, not memory size!</b></u>\n",
    "<pre>\n",
    "a_lrow*a_col is correct.\n",
    "a_lrow*a_col*sizeof(double) is wrong.\n",
    "</pre>"
   ]
  },
  {
   "attachments": {},
   "cell_type": "markdown",
   "metadata": {},
   "source": [
    "<u>Recap of pointer and array</u>\n",
    "\n",
    "```c\n",
    "// start of an array\n",
    "double *a_l_array = NULL;\n",
    "// scan values into the array\n",
    "fscanf(file_pointer2, \"%lf\\n\", a_l_array+j);\n",
    "// no need to put the ampersand\n",
    "// j points out the index\n",
    "// carefull using operator like ++, it changes the pointer idx\n",
    "\n",
    "// printing the value\n",
    "printf(\"%lf\", *(a_l_array+j));\n",
    "// similar\n",
    "printf(\"%lf\", a_l_array[j]);\n",
    "\n",
    "\n",
    "```\n"
   ]
  },
  {
   "attachments": {},
   "cell_type": "markdown",
   "metadata": {},
   "source": [
    "```c\n",
    "int MPI_Send(\n",
    "    void* message, //input\n",
    "    int count, //input\n",
    "    MPI_Datatype datatype, //input\n",
    "    int dest, //input\n",
    "    int tag, //input\n",
    "    MPI_Comm comm //input\n",
    ");\n",
    "\n",
    "int MPI_Recv(\n",
    "    void* message, //input\n",
    "    int count, //input\n",
    "    MPI_Datatype datatype, //input\n",
    "    int source, //input\n",
    "    int tag, //input\n",
    "    MPI_Comm comm, //input\n",
    "    MPI_Status* status // output\n",
    ");\n",
    "\n",
    "// tag is important as it helps to differentiate different message\n",
    "```"
   ]
  },
  {
   "attachments": {},
   "cell_type": "markdown",
   "metadata": {},
   "source": [
    "MPI_Send and MPI_Recv returns int value and these are error code. Also MPI aborts operations if any error happens. So checking these error code and terminate is not necessary."
   ]
  },
  {
   "attachments": {},
   "cell_type": "markdown",
   "metadata": {},
   "source": [
    "```c\n",
    "int MPI_Get_count(\n",
    "    MPI_Status* status, //input \n",
    "    MPI_Datatype datatype, //input\n",
    "    int* count_pointer //output\n",
    ")\n",
    "\n",
    "// Example\n",
    "// Receive the buffer\n",
    "int buffer[3];\n",
    "MPI_Status status;\n",
    "MPI_Recv(buffer, 3, MPI_INT, SENDER, 0, MPI_COMM_WORLD, &status);\n",
    "\n",
    "// Retrieve the number of elements (should be 3)\n",
    "int count;\n",
    "MPI_Get_count(&status, MPI_INT, &count);\n",
    "printf(\"Number of elements retrieved from the message received: %d.\\n\", count);\n",
    "\n",
    "```"
   ]
  },
  {
   "attachments": {},
   "cell_type": "markdown",
   "metadata": {},
   "source": [
    "1.3 Timing in MPI\n",
    "\n",
    "```c\n",
    "// this gives the wall clock time\n",
    "double MPI_Wtime(void);\n",
    "\n",
    "double t1, t2;\n",
    "t1 = MPI_Wtime();\n",
    "...\n",
    "t2 = MPI_Wtime();\n",
    "\n",
    "//Every processor syncs here and then next block starts\n",
    "MPI_Barrier(comm);\n",
    "```"
   ]
  },
  {
   "attachments": {},
   "cell_type": "markdown",
   "metadata": {},
   "source": [
    "Chap 2: Numerical Integration"
   ]
  },
  {
   "attachments": {},
   "cell_type": "markdown",
   "metadata": {},
   "source": [
    "##### Important notes\n",
    "<u> Collective operations like Bcast must be called by all proccesses in the communicator. </ul>"
   ]
  },
  {
   "attachments": {},
   "cell_type": "markdown",
   "metadata": {},
   "source": [
    "##### Datatype\n",
    "\n",
    "<ul>\n",
    "<li>MPI_CHAR</li>\n",
    "<li>MPI_WCHAR</li>\n",
    "<li>MPI_FLOAT</li>\n",
    "<li>MPI_DOUBLE</li>\n",
    "<li>MPI_LONG_DOUBLE</li>\n",
    "</ul>"
   ]
  },
  {
   "attachments": {},
   "cell_type": "markdown",
   "metadata": {},
   "source": [
    "```c\n",
    "MPI_Bcast(\n",
    "    void* data,\n",
    "    int count,\n",
    "    MPI_Datatype datatype,\n",
    "    int root,\n",
    "    MPI_Comm communicator)\n",
    "```"
   ]
  },
  {
   "attachments": {},
   "cell_type": "markdown",
   "metadata": {},
   "source": [
    "<ul>\n",
    "<li>MPI_MAX - Returns the maximum element.</li>\n",
    "<li>MPI_MIN - Returns the minimum element.</li>\n",
    "<li>MPI_SUM - Sums the elements.</li>\n",
    "<li>MPI_PROD - Multiplies all elements.</li>\n",
    "<li>MPI_LAND - Performs a logical and across the elements.</li>\n",
    "<li>MPI_LOR - Performs a logical or across the elements.</li>\n",
    "<li>MPI_BAND - Performs a bitwise and across the bits of the elements.</li>\n",
    "<li>MPI_BOR - Performs a bitwise or across the bits of the elements.</li>\n",
    "<li>MPI_MAXLOC - Returns the maximum value and the rank of the process that owns it.</li>\n",
    "<li>MPI_MINLOC - Returns the minimum value and the rank of the process that owns it.</li>\n",
    "</ul>\n",
    "\n",
    "```c\n",
    "MPI_Reduce(\n",
    "    void* send_data,\n",
    "    void* recv_data,\n",
    "    int count,\n",
    "    MPI_Datatype datatype,\n",
    "    MPI_Op op,\n",
    "    int root,\n",
    "    MPI_Comm communicator)\n",
    "\n",
    "MPI_Allreduce(\n",
    "    void* send_data,\n",
    "    void* recv_data,\n",
    "    int count,\n",
    "    MPI_Datatype datatype,\n",
    "    MPI_Op op,\n",
    "    MPI_Comm communicator)\n",
    "```\n",
    "\n",
    "Allreduce is identical to Reduce, the only difference it does not have any\n",
    "root processor. It takes the variable from all the processor and also updates \n",
    "in all the processor."
   ]
  },
  {
   "attachments": {},
   "cell_type": "markdown",
   "metadata": {},
   "source": [
    "##### 2.4 I/O on parallel systems\n",
    "\n",
    "It is better to only let one processor read the input data\n",
    "and then broadcast or send the data to other processor.\n"
   ]
  },
  {
   "attachments": {},
   "cell_type": "markdown",
   "metadata": {},
   "source": [
    "Read input data from cmd \n",
    "```c\n",
    "// from root processor\n",
    "scanf(\"%lf %lf %d\", &a, &b, &n);\n",
    "```\n",
    "sbatch file \n",
    "mpirun ./a.out < input.txt\n",
    "input.txt => 0.0 1.0 500000"
   ]
  },
  {
   "attachments": {},
   "cell_type": "markdown",
   "metadata": {},
   "source": [
    "##### Chap 3: Collective Communication"
   ]
  },
  {
   "attachments": {},
   "cell_type": "markdown",
   "metadata": {},
   "source": [
    "##### 3.1 Tree Structured Communication\n",
    "Instead of send/ recv we can use Bcast and the stages will be reduced from p-1 to ceil(log2(p)). <br/>\n",
    "<u>ceil means smallest whole number greater or equal to that number </u> <br/>\n",
    "<pre>\n",
    "For p=1024,\n",
    "ceil(log2(1024)) = 10\n",
    "We reduces 100 factor of communication time!\n",
    "</pre>\n",
    "\n",
    "In early days all type of collective communications were point of synchronization. On current system,\n",
    "because of buffering A (root) can complete two broadcast before B and C begin their calls. But the first MPI_Bcast on B will match the first MPI_Bcast on A. "
   ]
  },
  {
   "attachments": {},
   "cell_type": "markdown",
   "metadata": {},
   "source": [
    "##### 3.4 Safety, Buffering, and Synchronization\n",
    "Unless a system has buffer, execution uses synchronous mode. It is unsafe to assume that there \n",
    "will be buffer or sufficient buffer. \n",
    "MPI_Send and MPI_Recv are blocking functions. They do not return until the arguments to the functions can be safely modified. i.e., MPI_Send expects a ready destination to receive the message. \n",
    "\n",
    "Alternative: non-blocking communications (MPI_Isend/ Irecv), I stands for immediate. \n",
    "MPI_Wait can be used to complete communication.\n",
    "Syntax of Isend and Irecv are very similar to Send and Recv, in addition they have a request parameter to \n",
    "complete non blocking operations. \n",
    "\n",
    "```c\n",
    "MPI_Wait (request, status);\n",
    "```\n",
    "\n",
    "<b>Question:</b> What happens if one process makes multiple calls to MPI_Send\n",
    "with the same destination and the same tag?\n",
    "\n",
    "Nothing. The system uses the ”first in, first out” principle in dealing with\n",
    "messages and assign an ”internal tag” to them.\n",
    "\n",
    "Tag matters. It can swap the data. "
   ]
  },
  {
   "attachments": {},
   "cell_type": "markdown",
   "metadata": {},
   "source": [
    "##### 3.5 Dot Product"
   ]
  },
  {
   "attachments": {},
   "cell_type": "markdown",
   "metadata": {},
   "source": [
    "##### 3.6 Matrix Times Vector"
   ]
  },
  {
   "attachments": {
    "image-2.png": {
     "image/png": "[encoded data removed]"
    },
    "image.png": {
     "image/png": "[encoded data removed]"
    }
   },
   "cell_type": "markdown",
   "metadata": {},
   "source": [
    "MPI_Scatter and MPI_Gather are also collective communication.\n",
    "\n",
    "Bcast sends the same piece of data to everywhere where Scatter divides the data into chunks to all the processor.\n",
    "\n",
    "MPI_Scatter takes an array of elements and distributes the elements in the order of process rank. \n",
    "\n",
    "![image.png](attachment:image.png)\n",
    "\n",
    "```c\n",
    "MPI_Scatter(\n",
    "    void* send_data,\n",
    "    int send_count,\n",
    "    MPI_Datatype send_datatype,\n",
    "    void* recv_data,\n",
    "    int recv_count,\n",
    "    MPI_Datatype recv_datatype,\n",
    "    int root,\n",
    "    MPI_Comm communicator);\n",
    "```\n",
    "\n",
    "Similarly MPI_Gather takes element from each process and gathers to the root process. \n",
    "\n",
    "![image.png](attachment:image-2.png)\n",
    "\n",
    "```c\n",
    "MPI_Gather(\n",
    "    void* send_data,\n",
    "    int send_count,\n",
    "    MPI_Datatype send_datatype,\n",
    "    void* recv_data,\n",
    "    int recv_count,\n",
    "    MPI_Datatype recv_datatype,\n",
    "    int root,\n",
    "    MPI_Comm communicator)\n",
    "```"
   ]
  },
  {
   "attachments": {},
   "cell_type": "markdown",
   "metadata": {},
   "source": [
    "Pros and Cons of Gather and Scatter\n",
    "* They can simplify the data exchange but they take the whole memory in the root process, which can be memory expensive."
   ]
  },
  {
   "attachments": {},
   "cell_type": "markdown",
   "metadata": {},
   "source": [
    "Allreduce, Allgather are similar, the only difference is that in these cases, all the processors\n",
    "know the final result, where only root processor will know in case of Reduce or Gather. "
   ]
  },
  {
   "attachments": {},
   "cell_type": "markdown",
   "metadata": {},
   "source": [
    "```c\n",
    "// result has meaning to all processor\n",
    "// 3.8\n",
    "int MPI_Allreduce(\n",
    "    void* operand, \n",
    "    void* result,\n",
    "    int count,\n",
    "    MPI_Datatype datatype,\n",
    "    MPI_op operator,\n",
    "    MPI_Comm comm\n",
    ");\n",
    "\n",
    "// 3.9\n",
    "int MPI_Allgather(\n",
    "    void* send_data,\n",
    "    int send_count, \n",
    "    MPI_Datatype send_type,\n",
    "    void* recv_data,\n",
    "    int recv_count, \n",
    "    MPI_Datatype recv_type,\n",
    "    MPI_Comm comm\n",
    ")\n",
    "```"
   ]
  },
  {
   "attachments": {},
   "cell_type": "markdown",
   "metadata": {},
   "source": [
    "##### 3.10 Matrix X Vector & Matrix X Matrix\n",
    "There are multiple ways to implement. \n",
    "* Block row distribution\n",
    "* Circular shift \n",
    "\n",
    "```c\n",
    "// 3.9\n",
    "int MPI_Sendrecv_replace(\n",
    "    void* buffer, // input/ output\n",
    "    int count,  //input\n",
    "    MPI_Datatype datatype, //input\n",
    "    int dest, //input\n",
    "    int send_tag, //input\n",
    "    int source, //input\n",
    "    int recv_tag, //input\n",
    "    MPI_Comm comm, //input\n",
    "    MPI_Status* status //output\n",
    ")\n",
    "```\n",
    "\n",
    "The difference with MPI_Sendrecv is that MPI_Sendrecv_replace uses the same buffer for sending and receiving. This is immportant because MPI does not allow aliasing of output variables, so we need this special function MPI_Sendrecv_replace which allows to use the same buffer. "
   ]
  },
  {
   "attachments": {},
   "cell_type": "markdown",
   "metadata": {},
   "source": [
    "##### Ex 4.2"
   ]
  },
  {
   "attachments": {},
   "cell_type": "markdown",
   "metadata": {},
   "source": [
    "<u> Pointer to function </u>\n",
    "```c\n",
    "// declare a pointer variable for a function\n",
    "// <return-type> (*pointer-var-name)(list of input arg type) = &<function-name>\n",
    "double (*f_ptr)(double) = &func;\n",
    "// before\n",
    "func(...):\n",
    "//now\n",
    "(*f_ptr)(...);\n",
    "\n",
    "// pass as input arg in another func\n",
    "local_T2N_calc(local_a, local_n, h, &local_T2N, (*f_ptr));\n",
    "//inside local_T2N_calc, we can use as previous\n",
    "res = (*f_ptr)(step);\n",
    "```"
   ]
  },
  {
   "attachments": {},
   "cell_type": "markdown",
   "metadata": {},
   "source": [
    "4.3 Parallel Fox's algorithm\n",
    "\n",
    "* Need to boradcast A <sub>i, <b>k</b></sub> across the ith row before multiplication\n",
    "* and shift the elements of B <sub><b>k</b>, j</sub> up one row after multiplication\n",
    "\n",
    "Need multiple communicators \n",
    "\n",
    "<pre>\n",
    "MPI_Comm_group : returns the group underlying a commuünicator\n",
    "MPI_Group_incl : creats a new group ffrom a list of processes in an existing group\n",
    "MPI_Comm_create : creates a new communicator associates a context to a new group\n",
    "</pre>"
   ]
  },
  {
   "attachments": {},
   "cell_type": "markdown",
   "metadata": {},
   "source": [
    "4.5 MPI_Cart_sub\n",
    "\n",
    "We can partition a grid into grids of lower dimension. \n",
    "\n",
    "```c\n",
    "free_coords[0] = 0; //  row coordinate is fixed\n",
    "free_coords[1] = 1; // column coordinate is free\n",
    "// free_coords is an array of booleans\n",
    "MPI_Cart_sub(grid_comm, free_coords, &col_comm);\n",
    "```\n",
    "\n",
    "MPI_Cart_sub is a collective communication and has to be called by all processes in grid comm."
   ]
  }
 ],
 "metadata": {
  "kernelspec": {
   "display_name": "Python 3",
   "language": "python",
   "name": "python3"
  },
  "language_info": {
   "name": "python",
   "version": "3.9.7"
  },
  "orig_nbformat": 4,
  "vscode": {
   "interpreter": {
    "hash": "beea94e32aef35cef7dc49f34ae9a2e1d5018c36e2514478a8c67a1d7e1945a0"
   }
  }
 },
 "nbformat": 4,
 "nbformat_minor": 2
}
