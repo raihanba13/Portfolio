{
 "cells": [
  {
   "cell_type": "code",
   "execution_count": null,
   "id": "73852508",
   "metadata": {},
   "outputs": [],
   "source": [
    "## A lambda function that will be triggered on s3 events to process xml log files"
   ]
  },
  {
   "cell_type": "code",
   "execution_count": null,
   "id": "5c88adb7",
   "metadata": {},
   "outputs": [],
   "source": [
    "import boto3\n",
    "import logging\n",
    "import re\n",
    "from bs4 import BeautifulSoup\n",
    "import io, json\n",
    "\n",
    "def apple_xml_parser(event):\n",
    "    # checking the input\n",
    "    try:\n",
    "        if re.search(r'(.*?)(apple\\.xml)', event.key, re.MULTILINE | re.IGNORECASE) == None:\n",
    "            return\n",
    "\n",
    "        obj = s3.get_object(Bucket=bucket_name, Key=event.key)\n",
    "        xml_data = obj['Body']\n",
    "\n",
    "        xml_soup = BeautifulSoup(xml_data)\n",
    "        output_json_dict = {}\n",
    "        \n",
    "        try:\n",
    "            output_json_dict['key1'] = xml_soup.find('key1').get_text()\n",
    "        except:\n",
    "            output_json_dict['key1'] = ''\n",
    "            \n",
    "            \n",
    "        # we can have multiple data here\n",
    "        item_soup_list = xml_soup.select('key2 > key3 > key4')\n",
    "        item_list = []\n",
    "        for x in item_soup_list:\n",
    "            item_list.append(x)\n",
    "\n",
    "        # Some other data extraction ...\n",
    "        \n",
    "        output_json_dict_bytes = json.dumps(output_json_dict, indent=4).encode('utf-8')\n",
    "\n",
    "        output_json_path = (event.key).rsplit('/', 1)[0] + '/generic_info.json'\n",
    "        #  'nest1/nest2/nest3/generic_info.json'\n",
    "        s3.put_object(Bucket=bucket_name,\n",
    "                Key=output_json_path,\n",
    "                Body=output_json_dict_bytes)\n",
    "\n",
    "    except Exception as e:\n",
    "        app.log.error(\"Error: \" + str(e))"
   ]
  }
 ],
 "metadata": {
  "kernelspec": {
   "display_name": "Python 3 (ipykernel)",
   "language": "python",
   "name": "python3"
  },
  "language_info": {
   "codemirror_mode": {
    "name": "ipython",
    "version": 3
   },
   "file_extension": ".py",
   "mimetype": "text/x-python",
   "name": "python",
   "nbconvert_exporter": "python",
   "pygments_lexer": "ipython3",
   "version": "3.9.7"
  }
 },
 "nbformat": 4,
 "nbformat_minor": 5
}
