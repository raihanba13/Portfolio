{
 "cells": [
  {
   "cell_type": "code",
   "execution_count": null,
   "id": "c74c96e7",
   "metadata": {},
   "outputs": [],
   "source": [
    "## This is a demonstration of Chalice App to process email log files\n",
    "\n",
    "from chalice import Chalice\n",
    "import boto3\n",
    "import logging\n",
    "import json\n",
    "import ast\n",
    "from pprint import pprint\n",
    "import re, datetime\n",
    "from copy import deepcopy\n",
    "\n",
    "app = Chalice(app_name='email_parser')\n",
    "\n",
    "app.log.setLevel(logging.DEBUG)\n",
    "\n",
    "# s3 config\n",
    "s3 = boto3.client('s3')\n",
    "bucket_name = 'mango-email'\n",
    "\n",
    "email_folder_path = 'mango-email-test/'\n",
    "email_parsed_data_folder_path = 'mango-email/processed-data/'"
   ]
  },
  {
   "cell_type": "code",
   "execution_count": null,
   "id": "d1ba78c2",
   "metadata": {},
   "outputs": [],
   "source": [
    "# global, timestamp\n",
    "curr_ymdh = datetime.datetime.now().strftime(\"%Y%m%d%H\")"
   ]
  },
  {
   "cell_type": "code",
   "execution_count": null,
   "id": "c6339735",
   "metadata": {},
   "outputs": [],
   "source": [
    "# email_to can be a list with 1 or more element, or string\n",
    "def clean_email_to(email_to):\n",
    "    if isinstance(email_to, list):\n",
    "        email_to = [x.strip() for x in email_to if x.strip() != 'admin@mango.com']\n",
    "        if len(email_to) > 1:\n",
    "            email_to = '|'.join(email_to)\n",
    "        elif len(email_to) == 1:\n",
    "            email_to = email_to[0]\n",
    "        else:\n",
    "            # there is no more email, so len(email_to) == 0\n",
    "            return ''\n",
    "\n",
    "    # if email_to is a str\n",
    "    elif email_to.strip() == 'admin@mango.com':\n",
    "        return ''\n",
    "    \n",
    "    return email_to"
   ]
  },
  {
   "cell_type": "code",
   "execution_count": null,
   "id": "20136b3b",
   "metadata": {},
   "outputs": [],
   "source": [
    "## We can have log email from different vendors like Amazon SES, Mailgun, Mailjet"
   ]
  },
  {
   "cell_type": "code",
   "execution_count": null,
   "id": "3bdf77b3",
   "metadata": {},
   "outputs": [],
   "source": [
    "def x_provider_parser(x_provider):\n",
    "    global curr_ymdh\n",
    "    obj = s3.get_object(Bucket=bucket_name, Key=x_provider)\n",
    "    file_data = obj['Body'].read().decode('utf-8')\n",
    "\n",
    "    file_data_list = file_data.strip().split('\\n')\n",
    "\n",
    "    for idx, data in enumerate(file_data_list):\n",
    "        try:\n",
    "            data = json.loads(data)\n",
    "            parsed_dict = {}   \n",
    "            parsed_dict['email_to'] = data.get('mail', {'destination': ''}).get('destination', '')\n",
    "            parsed_dict['email_to'] = clean_email_to(parsed_dict['email_to'])\n",
    "            if parsed_dict['email_to'] == '':\n",
    "                continue\n",
    "\n",
    "            # some other key extraction ...\n",
    "\n",
    "\n",
    "            parsed_dict['key1'] = {\n",
    "                # this data is in nested dict\n",
    "                'key2': data.get('key2', {'key3': ''}).get('key4', ''),\n",
    "                'key5': data.get('key6', {'key7': ''}).get('key8', {'key9': ''}).get('key10', '')\n",
    "            }\n",
    "\n",
    "            output_dict_key = f\"{curr_ymdh}_{x_provider.rsplit('/', 1)[1]}_{parsed_dict['email_to']}_{parsed_dict['key11']}_{idx}.json\"\n",
    "            \n",
    "            s3.put_object(Bucket=bucket_name,\n",
    "                    Key=f\"{email_parsed_data_folder_path}{output_dict_key}\",\n",
    "                    Body=json.dumps(parsed_dict, indent=4).encode('utf-8'))\n",
    "\n",
    "        except Exception as e:\n",
    "            error = f\"x_provider_{x_provider.rsplit('/', 1)[1]}_{idx}_{e}\"\n",
    "            app.log.error(error)"
   ]
  },
  {
   "cell_type": "code",
   "execution_count": null,
   "id": "526fb6d4",
   "metadata": {},
   "outputs": [],
   "source": [
    "## Structure is different for different providers, so we code separate function for different provider.\n",
    "## Interestingly, one provider had 2 type of structure but it was not mentioned in the documentatin.\n",
    "## Because of logging error, we find out this issue and handle both case correctly."
   ]
  },
  {
   "cell_type": "code",
   "execution_count": null,
   "id": "b46254fb",
   "metadata": {},
   "outputs": [],
   "source": [
    "# This function will be triggered on s3 events, like upload or modify of a file\n",
    "@app.on_s3_event(bucket=bucket_name)\n",
    "def email_parser(event):\n",
    "\n",
    "    if re.search(r'mango-email-test/(.+?)/(.+?)$', event.key, re.MULTILINE | re.IGNORECASE) == None and re.search(r'raw_logs/(.+?)/(.+?)$', event.key, re.MULTILINE | re.IGNORECASE) == None:\n",
    "        return\n",
    "\n",
    "    if '/x-provider/' in event.key:\n",
    "        # call the respective function and process the data\n",
    "        pass\n",
    "\n",
    "    \n",
    "    elif '/y-provider/' in event.key:\n",
    "        # call the respective function and process the data\n",
    "        pass\n"
   ]
  },
  {
   "cell_type": "code",
   "execution_count": null,
   "id": "ac933923",
   "metadata": {},
   "outputs": [],
   "source": [
    "# Chalice also offers API, this end point is to test purpose\n",
    "@app.route('/')\n",
    "def tester_call():\n",
    "    global curr_ymdh\n",
    "    \n",
    "    response = s3.list_objects_v2(\n",
    "            Bucket=bucket_name,\n",
    "            Prefix=email_folder_path)\n",
    "    \n",
    "    print(\"Test started at \" + datetime.datetime.now().strftime(\"%Y%m%d%H\") + \".\")\n",
    "\n",
    "    for event_key in response['Contents']:\n",
    "        if re.search(r'mango-email-test/(.+?)/(.+?)$', event.key, re.MULTILINE | re.IGNORECASE) == None and re.search(r'raw_logs/(.+?)/(.+?)$', event.key, re.MULTILINE | re.IGNORECASE) == None:\n",
    "        return\n",
    "\n",
    "    if '/x-provider/' in event.key:\n",
    "        # call the respective function and process the data\n",
    "        pass\n",
    "\n",
    "    \n",
    "    elif '/y-provider/' in event.key:\n",
    "        # call the respective function and process the data\n",
    "        pass\n",
    "    \n",
    "    print(\"Test ended at \" + datetime.datetime.now().strftime(\"%Y%m%d%H\") + \".\")"
   ]
  }
 ],
 "metadata": {
  "kernelspec": {
   "display_name": "Python 3 (ipykernel)",
   "language": "python",
   "name": "python3"
  },
  "language_info": {
   "codemirror_mode": {
    "name": "ipython",
    "version": 3
   },
   "file_extension": ".py",
   "mimetype": "text/x-python",
   "name": "python",
   "nbconvert_exporter": "python",
   "pygments_lexer": "ipython3",
   "version": "3.9.7"
  }
 },
 "nbformat": 4,
 "nbformat_minor": 5
}
