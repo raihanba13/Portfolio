{
 "cells": [
  {
   "cell_type": "code",
   "execution_count": null,
   "id": "3c16db83",
   "metadata": {},
   "outputs": [],
   "source": [
    "## In this project, the goal was to extract address from pdf\n",
    "## Pdf is a very unstructured format \n",
    "## We used Tika to read the pdf"
   ]
  },
  {
   "cell_type": "code",
   "execution_count": null,
   "id": "b466a0a8",
   "metadata": {},
   "outputs": [],
   "source": [
    "import os\n",
    "import sys\n",
    "from pprint import pprint\n",
    "import pandas as pd\n",
    "import re\n",
    "import time\n",
    "from tika import parser\n",
    "from copy import deepcopy\n",
    "\n",
    "project_dir = \"\"\n",
    "input_pdf = \"\"\n",
    "\n",
    "raw = parser.from_file(input_pdf, xmlContent=False)\n",
    "raw_body = raw['content']\n",
    "\n",
    "# here the trick was a special html character, because of that we could extract a lot of data with this regex\n",
    "pattern = r'(.*)(?=,)([0-9a-zA-Z\\s:,]+)NPI:([\\s\\w♿]+)(\\(\\d{3})\\)\\s(\\d{3}-\\d{4})'\n",
    "matches = re.finditer(pattern, raw_body, flags=re.IGNORECASE | re.MULTILINE | re.VERBOSE)\n",
    "\n",
    "output_df = pd.DataFrame()\n",
    "for match in matches:\n",
    "    try:\n",
    "        key1 = ''\n",
    "        key2 = ''\n",
    "        \n",
    "        # clean the tick mark\n",
    "        extract_txt = match.group().replace(u'\\u2713', '')\n",
    "\n",
    "        #  drop gender\n",
    "        extract_txt_list = extract_txt.split('\\n')\n",
    "        extract_txt_list = [x for x in extract_txt_list if 'gender' not in x.lower()]\n",
    "        \n",
    "        # logic for key1, key1 ...\n",
    "\n",
    "        name = re.sub(r'^\\s*u', '', name, flags=re.IGNORECASE).strip()\n",
    "        address1 = address1.strip().strip('♿')\n",
    "        address1_uncleaned = deepcopy(address1)\n",
    "\n",
    "        address1 = re.sub(r'(\\s+[4]{1})|(^[4]{1})', '', address1)\n",
    "        address1 = re.sub(r'^\\s*u', '', address1, flags=re.IGNORECASE)\n",
    "\n",
    "        output_df = output_df.append(\n",
    "                        pd.DataFrame([[key1, key2, address1_uncleaned, address1]]),\n",
    "                        ignore_index=True\n",
    "                    )\n",
    "    except Exception as e:\n",
    "        print(e)\n",
    "\n",
    "# saving output_df"
   ]
  }
 ],
 "metadata": {
  "kernelspec": {
   "display_name": "Python 3 (ipykernel)",
   "language": "python",
   "name": "python3"
  },
  "language_info": {
   "codemirror_mode": {
    "name": "ipython",
    "version": 3
   },
   "file_extension": ".py",
   "mimetype": "text/x-python",
   "name": "python",
   "nbconvert_exporter": "python",
   "pygments_lexer": "ipython3",
   "version": "3.9.7"
  }
 },
 "nbformat": 4,
 "nbformat_minor": 5
}
