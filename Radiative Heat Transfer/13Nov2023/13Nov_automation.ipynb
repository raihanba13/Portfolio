{
 "cells": [
  {
   "cell_type": "code",
   "execution_count": 5,
   "metadata": {},
   "outputs": [
    {
     "ename": "KeyboardInterrupt",
     "evalue": "",
     "output_type": "error",
     "traceback": [
      "\u001b[1;31m---------------------------------------------------------------------------\u001b[0m",
      "\u001b[1;31mKeyboardInterrupt\u001b[0m                         Traceback (most recent call last)",
      "\u001b[1;32md:\\OpenFoam_W23-24\\v2306\\msys64\\home\\ofuser\\13Nov2023\\13Nov_automation.ipynb Cell 1\u001b[0m line \u001b[0;36m<cell line: 15>\u001b[1;34m()\u001b[0m\n\u001b[0;32m     <a href='vscode-notebook-cell:/d%3A/OpenFoam_W23-24/v2306/msys64/home/ofuser/13Nov2023/13Nov_automation.ipynb#W0sZmlsZQ%3D%3D?line=31'>32</a>\u001b[0m \u001b[39m# now we run the Allrun \u001b[39;00m\n\u001b[0;32m     <a href='vscode-notebook-cell:/d%3A/OpenFoam_W23-24/v2306/msys64/home/ofuser/13Nov2023/13Nov_automation.ipynb#W0sZmlsZQ%3D%3D?line=32'>33</a>\u001b[0m \u001b[39m# result = subprocess.run(\u001b[39;00m\n\u001b[0;32m     <a href='vscode-notebook-cell:/d%3A/OpenFoam_W23-24/v2306/msys64/home/ofuser/13Nov2023/13Nov_automation.ipynb#W0sZmlsZQ%3D%3D?line=33'>34</a>\u001b[0m \u001b[39m#     [\"D:/OpenFoam_W23-24/v2306/OpenFOAM-MSYS2.bat\", \"-c\", f'\"{output_file_path}Allrun\"'], capture_output=True, text=True\u001b[39;00m\n\u001b[0;32m     <a href='vscode-notebook-cell:/d%3A/OpenFoam_W23-24/v2306/msys64/home/ofuser/13Nov2023/13Nov_automation.ipynb#W0sZmlsZQ%3D%3D?line=34'>35</a>\u001b[0m \u001b[39m# )\u001b[39;00m\n\u001b[0;32m     <a href='vscode-notebook-cell:/d%3A/OpenFoam_W23-24/v2306/msys64/home/ofuser/13Nov2023/13Nov_automation.ipynb#W0sZmlsZQ%3D%3D?line=35'>36</a>\u001b[0m \u001b[39m# print(\"stdout:\", result.stdout)\u001b[39;00m\n\u001b[0;32m     <a href='vscode-notebook-cell:/d%3A/OpenFoam_W23-24/v2306/msys64/home/ofuser/13Nov2023/13Nov_automation.ipynb#W0sZmlsZQ%3D%3D?line=36'>37</a>\u001b[0m \u001b[39m# print(\"stderr:\", result.stderr)\u001b[39;00m\n\u001b[0;32m     <a href='vscode-notebook-cell:/d%3A/OpenFoam_W23-24/v2306/msys64/home/ofuser/13Nov2023/13Nov_automation.ipynb#W0sZmlsZQ%3D%3D?line=38'>39</a>\u001b[0m p \u001b[39m=\u001b[39m subprocess\u001b[39m.\u001b[39mPopen([\u001b[39m\"\u001b[39m\u001b[39mD:/OpenFoam_W23-24/v2306/OpenFOAM-MSYS2.bat\u001b[39m\u001b[39m\"\u001b[39m, \u001b[39mf\u001b[39m\u001b[39m'\u001b[39m\u001b[39m\"\u001b[39m\u001b[39m{\u001b[39;00moutput_file_path\u001b[39m}\u001b[39;00m\u001b[39mAllrun\u001b[39m\u001b[39m\"\u001b[39m\u001b[39m'\u001b[39m], stdout\u001b[39m=\u001b[39msubprocess\u001b[39m.\u001b[39mPIPE, stderr\u001b[39m=\u001b[39msubprocess\u001b[39m.\u001b[39mPIPE, text\u001b[39m=\u001b[39m\u001b[39mTrue\u001b[39;00m)\n\u001b[1;32m---> <a href='vscode-notebook-cell:/d%3A/OpenFoam_W23-24/v2306/msys64/home/ofuser/13Nov2023/13Nov_automation.ipynb#W0sZmlsZQ%3D%3D?line=40'>41</a>\u001b[0m output, errors \u001b[39m=\u001b[39m p\u001b[39m.\u001b[39;49mcommunicate()\n\u001b[0;32m     <a href='vscode-notebook-cell:/d%3A/OpenFoam_W23-24/v2306/msys64/home/ofuser/13Nov2023/13Nov_automation.ipynb#W0sZmlsZQ%3D%3D?line=42'>43</a>\u001b[0m \u001b[39mprint\u001b[39m(output)\n",
      "File \u001b[1;32mc:\\Users\\Raihan\\AppData\\Local\\Programs\\Python\\Python39\\lib\\subprocess.py:1134\u001b[0m, in \u001b[0;36mPopen.communicate\u001b[1;34m(self, input, timeout)\u001b[0m\n\u001b[0;32m   1131\u001b[0m     endtime \u001b[39m=\u001b[39m \u001b[39mNone\u001b[39;00m\n\u001b[0;32m   1133\u001b[0m \u001b[39mtry\u001b[39;00m:\n\u001b[1;32m-> 1134\u001b[0m     stdout, stderr \u001b[39m=\u001b[39m \u001b[39mself\u001b[39;49m\u001b[39m.\u001b[39;49m_communicate(\u001b[39minput\u001b[39;49m, endtime, timeout)\n\u001b[0;32m   1135\u001b[0m \u001b[39mexcept\u001b[39;00m \u001b[39mKeyboardInterrupt\u001b[39;00m:\n\u001b[0;32m   1136\u001b[0m     \u001b[39m# https://bugs.python.org/issue25942\u001b[39;00m\n\u001b[0;32m   1137\u001b[0m     \u001b[39m# See the detailed comment in .wait().\u001b[39;00m\n\u001b[0;32m   1138\u001b[0m     \u001b[39mif\u001b[39;00m timeout \u001b[39mis\u001b[39;00m \u001b[39mnot\u001b[39;00m \u001b[39mNone\u001b[39;00m:\n",
      "File \u001b[1;32mc:\\Users\\Raihan\\AppData\\Local\\Programs\\Python\\Python39\\lib\\subprocess.py:1508\u001b[0m, in \u001b[0;36mPopen._communicate\u001b[1;34m(self, input, endtime, orig_timeout)\u001b[0m\n\u001b[0;32m   1504\u001b[0m \u001b[39m# Wait for the reader threads, or time out.  If we time out, the\u001b[39;00m\n\u001b[0;32m   1505\u001b[0m \u001b[39m# threads remain reading and the fds left open in case the user\u001b[39;00m\n\u001b[0;32m   1506\u001b[0m \u001b[39m# calls communicate again.\u001b[39;00m\n\u001b[0;32m   1507\u001b[0m \u001b[39mif\u001b[39;00m \u001b[39mself\u001b[39m\u001b[39m.\u001b[39mstdout \u001b[39mis\u001b[39;00m \u001b[39mnot\u001b[39;00m \u001b[39mNone\u001b[39;00m:\n\u001b[1;32m-> 1508\u001b[0m     \u001b[39mself\u001b[39;49m\u001b[39m.\u001b[39;49mstdout_thread\u001b[39m.\u001b[39;49mjoin(\u001b[39mself\u001b[39;49m\u001b[39m.\u001b[39;49m_remaining_time(endtime))\n\u001b[0;32m   1509\u001b[0m     \u001b[39mif\u001b[39;00m \u001b[39mself\u001b[39m\u001b[39m.\u001b[39mstdout_thread\u001b[39m.\u001b[39mis_alive():\n\u001b[0;32m   1510\u001b[0m         \u001b[39mraise\u001b[39;00m TimeoutExpired(\u001b[39mself\u001b[39m\u001b[39m.\u001b[39margs, orig_timeout)\n",
      "File \u001b[1;32mc:\\Users\\Raihan\\AppData\\Local\\Programs\\Python\\Python39\\lib\\threading.py:1053\u001b[0m, in \u001b[0;36mThread.join\u001b[1;34m(self, timeout)\u001b[0m\n\u001b[0;32m   1050\u001b[0m     \u001b[39mraise\u001b[39;00m \u001b[39mRuntimeError\u001b[39;00m(\u001b[39m\"\u001b[39m\u001b[39mcannot join current thread\u001b[39m\u001b[39m\"\u001b[39m)\n\u001b[0;32m   1052\u001b[0m \u001b[39mif\u001b[39;00m timeout \u001b[39mis\u001b[39;00m \u001b[39mNone\u001b[39;00m:\n\u001b[1;32m-> 1053\u001b[0m     \u001b[39mself\u001b[39;49m\u001b[39m.\u001b[39;49m_wait_for_tstate_lock()\n\u001b[0;32m   1054\u001b[0m \u001b[39melse\u001b[39;00m:\n\u001b[0;32m   1055\u001b[0m     \u001b[39m# the behavior of a negative timeout isn't documented, but\u001b[39;00m\n\u001b[0;32m   1056\u001b[0m     \u001b[39m# historically .join(timeout=x) for x<0 has acted as if timeout=0\u001b[39;00m\n\u001b[0;32m   1057\u001b[0m     \u001b[39mself\u001b[39m\u001b[39m.\u001b[39m_wait_for_tstate_lock(timeout\u001b[39m=\u001b[39m\u001b[39mmax\u001b[39m(timeout, \u001b[39m0\u001b[39m))\n",
      "File \u001b[1;32mc:\\Users\\Raihan\\AppData\\Local\\Programs\\Python\\Python39\\lib\\threading.py:1069\u001b[0m, in \u001b[0;36mThread._wait_for_tstate_lock\u001b[1;34m(self, block, timeout)\u001b[0m\n\u001b[0;32m   1067\u001b[0m \u001b[39mif\u001b[39;00m lock \u001b[39mis\u001b[39;00m \u001b[39mNone\u001b[39;00m:  \u001b[39m# already determined that the C code is done\u001b[39;00m\n\u001b[0;32m   1068\u001b[0m     \u001b[39massert\u001b[39;00m \u001b[39mself\u001b[39m\u001b[39m.\u001b[39m_is_stopped\n\u001b[1;32m-> 1069\u001b[0m \u001b[39melif\u001b[39;00m lock\u001b[39m.\u001b[39;49macquire(block, timeout):\n\u001b[0;32m   1070\u001b[0m     lock\u001b[39m.\u001b[39mrelease()\n\u001b[0;32m   1071\u001b[0m     \u001b[39mself\u001b[39m\u001b[39m.\u001b[39m_stop()\n",
      "\u001b[1;31mKeyboardInterrupt\u001b[0m: "
     ]
    }
   ],
   "source": [
    "# In loving memory of Uncle Slo\n",
    "\n",
    "# Our task is to create multiple case of smallPoolFire2D, run it automatically\n",
    "# We will change 2 variable in blockMeshDict\n",
    "\n",
    "# copy everything inside grid_study/base_case and create new folder\n",
    "\n",
    "import os \n",
    "import shutil\n",
    "import re\n",
    "import subprocess\n",
    "\n",
    "num_cell_list = [10, 20, 40]\n",
    "\n",
    "for cell in num_cell_list:\n",
    "    \n",
    "    output_file_path = os.getcwd().replace(\"\\\\\", \"/\") + \"/grid_study/case_\" + str(cell) + \"/\"    \n",
    "    shutil.copytree(\"grid_study/base_case/\", output_file_path)\n",
    "    \n",
    "    # we update the data\n",
    "    blockMeshDict_path = output_file_path + \"system/blockMeshDict\"\n",
    "    \n",
    "    with open(blockMeshDict_path, \"r\") as f:\n",
    "        lines = f.read()\n",
    "        \n",
    "    lines = re.sub(r\"_res_x\", str(cell), lines)\n",
    "    lines = re.sub(r\"_res_y\", str(cell), lines)\n",
    "    \n",
    "    with open(blockMeshDict_path, 'w') as file:\n",
    "        file.write(lines)\n",
    "        \n",
    "    # now we run the Allrun \n",
    "    # result = subprocess.run(\n",
    "    #     [\"D:/OpenFoam_W23-24/v2306/OpenFOAM-MSYS2.bat\", \"-c\", f'\"{output_file_path}Allrun\"'], capture_output=True, text=True\n",
    "    # )\n",
    "    # print(\"stdout:\", result.stdout)\n",
    "    # print(\"stderr:\", result.stderr)\n",
    "    \n",
    "    p = subprocess.Popen([\"D:/OpenFoam_W23-24/v2306/OpenFOAM-MSYS2.bat\", f'\"{output_file_path}Allrun\"'], stdout=subprocess.PIPE, stderr=subprocess.PIPE, text=True)\n",
    "\n",
    "    output, errors = p.communicate()\n",
    "\n",
    "    print(output)\n",
    "\n",
    "\n",
    "\n",
    "\n"
   ]
  }
 ],
 "metadata": {
  "kernelspec": {
   "display_name": "Python 3",
   "language": "python",
   "name": "python3"
  },
  "language_info": {
   "codemirror_mode": {
    "name": "ipython",
    "version": 3
   },
   "file_extension": ".py",
   "mimetype": "text/x-python",
   "name": "python",
   "nbconvert_exporter": "python",
   "pygments_lexer": "ipython3",
   "version": "3.9.7"
  }
 },
 "nbformat": 4,
 "nbformat_minor": 2
}
