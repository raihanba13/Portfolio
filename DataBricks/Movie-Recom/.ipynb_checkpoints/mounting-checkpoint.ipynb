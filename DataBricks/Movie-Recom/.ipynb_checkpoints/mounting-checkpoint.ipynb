{
 "cells": [
  {
   "cell_type": "code",
   "execution_count": null,
   "id": "01a78f8e",
   "metadata": {},
   "outputs": [],
   "source": [
    "# ======================== #\n",
    "# Mounting data #\n",
    "# ======================== #\n",
    "\n",
    "# We create a Storage Account and inside that we have 3 containers \n",
    "# unprocessed: raw input data\n",
    "# validated: data that we can work with\n",
    "# bin: data that are rejected\n",
    "# refschema: meta data for our table\n",
    "# We can use Azure DataFactory (Hybrid Data Integraiton Service) to automate the process of data cleaning and loading\n",
    "# We can create a pipeline and whenever there is a new file in unprocessed\n",
    "# we can trigger the whole process, first check the meta data of the file\n",
    "# if the structure matches, we will copy the file to validated, otherwise bin (Linked Service)\n",
    "# we can use ForEach to achieve Parallelism \n",
    "# similar end result can be achieved with Azure Functions & Storage Accounts or AWS Lambda & S3, there are many other ways!\n",
    "# When we have a new file in validated, we will run the notebook and update our ratings, models and get new movie recommendation\n",
    "# Logic App can be used to send this new ratings via email or push notifications to the user\n",
    "storage_account_name = \"movierecom1\"\n",
    "container_name = \"validated\"\n",
    "root_dir =\"/mnt/Files/validated\"\n",
    "\n",
    "# We create an instance form App Registration, then we create a client certificate\n",
    "# Databricks and Azure are separated, so we need to connect them\n",
    "# We save our keys in Key Valut, create a scope so that Azure Databricks can access Azure files\n",
    "# Key Vault is recommended instead of exposing private keys\n",
    "application_id = dbutils.secrets.get(scope=\"movieScope\", key=\"clientid\")\n",
    "authentation_key = dbutils.secrets.get(scope=\"movieScope\", key=\"clientsecret\")\n",
    "tenant_id = dbutils.secrets.get(scope=\"movieScope\", key=\"tenantid\")\n",
    "\n",
    "# Boilerplate code to connect Azure Storeage from Azure Databrics\n",
    "endpoint = \"https://login.microsoftonline.com/\" + tenant_id + \"/oauth2/token\"\n",
    "source = \"abfss://\"+container_name+\"@\"+storage_account_name+\".dfs.core.windows.net\"\n",
    "\n",
    "configs = {\"fs.azure.account.auth.type\": \"OAuth\",\n",
    "          \"fs.azure.account.oauth.provider.type\": \"org.apache.hadoop.fs.azurebfs.oauth2.ClientCredsTokenProvider\",\n",
    "          \"fs.azure.account.oauth2.client.id\": application_id,\n",
    "          \"fs.azure.account.oauth2.client.secret\": authentation_key,\n",
    "          \"fs.azure.account.oauth2.client.endpoint\": endpoint}\n",
    "\n",
    "if not any(mount.mountPoint==mountPoint for mount in dbutils.fs.mounts()):\n",
    "    dbutils.fs.mount(\n",
    "    source = source,\n",
    "    mount_point = mountPoint,\n",
    "    extra_configs = configs)\n",
    "    \n",
    "# We have access to our file, now we will use Spark ML library to generate movie recommendation"
   ]
  }
 ],
 "metadata": {
  "kernelspec": {
   "display_name": "Python 3 (ipykernel)",
   "language": "python",
   "name": "python3"
  },
  "language_info": {
   "codemirror_mode": {
    "name": "ipython",
    "version": 3
   },
   "file_extension": ".py",
   "mimetype": "text/x-python",
   "name": "python",
   "nbconvert_exporter": "python",
   "pygments_lexer": "ipython3",
   "version": "3.9.7"
  }
 },
 "nbformat": 4,
 "nbformat_minor": 5
}
